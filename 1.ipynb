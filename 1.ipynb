{
 "cells": [
  {
   "cell_type": "markdown",
   "id": "e60ff3c7",
   "metadata": {},
   "source": [
    "# 1.출력"
   ]
  },
  {
   "cell_type": "code",
   "execution_count": 24,
   "id": "531c8421",
   "metadata": {},
   "outputs": [
    {
     "name": "stdout",
     "output_type": "stream",
     "text": [
      "Hi python\n"
     ]
    }
   ],
   "source": [
    "#q1\n",
    "print(\"Hi python\")"
   ]
  },
  {
   "cell_type": "code",
   "execution_count": 25,
   "id": "97f9754d",
   "metadata": {},
   "outputs": [
    {
     "name": "stdout",
     "output_type": "stream",
     "text": [
      "i have\n",
      "3\n",
      "books\n"
     ]
    }
   ],
   "source": [
    "#q2\n",
    "print(\"i have\")\n",
    "print(3)\n",
    "print(\"books\")"
   ]
  },
  {
   "cell_type": "code",
   "execution_count": 26,
   "id": "18eea571",
   "metadata": {},
   "outputs": [
    {
     "name": "stdout",
     "output_type": "stream",
     "text": [
      "my age:\n",
      "15\n",
      "my weight:\n",
      "67.3\n"
     ]
    }
   ],
   "source": [
    "#q2-2\n",
    "print(\"my age:\")\n",
    "print(15)\n",
    "print(\"my weight:\")\n",
    "print(67.3)"
   ]
  },
  {
   "cell_type": "code",
   "execution_count": 27,
   "id": "d332dc19",
   "metadata": {},
   "outputs": [
    {
     "name": "stdout",
     "output_type": "stream",
     "text": [
      "Apple Banana Carrot\n"
     ]
    }
   ],
   "source": [
    "#q3\n",
    "print(\"Apple\",\"Banana\",\"Carrot\")"
   ]
  },
  {
   "cell_type": "code",
   "execution_count": 28,
   "id": "32033abf",
   "metadata": {},
   "outputs": [
    {
     "name": "stdout",
     "output_type": "stream",
     "text": [
      "(@) (@)\n",
      "( *~* )\n",
      " (^^^)\n"
     ]
    }
   ],
   "source": [
    "#q4\n",
    "print(\"(@) (@)\")\n",
    "print(\"( *~* )\")\n",
    "print(\" (^^^)\")"
   ]
  },
  {
   "cell_type": "code",
   "execution_count": 29,
   "id": "d0ad6424",
   "metadata": {},
   "outputs": [
    {
     "name": "stdout",
     "output_type": "stream",
     "text": [
      "5 + 10 = 15\n"
     ]
    }
   ],
   "source": [
    "#q5\n",
    "print(\"5 + 10 =\",15)"
   ]
  },
  {
   "cell_type": "code",
   "execution_count": 30,
   "id": "ce09fc61",
   "metadata": {},
   "outputs": [
    {
     "name": "stdout",
     "output_type": "stream",
     "text": [
      "5 = 10 - 5\n"
     ]
    }
   ],
   "source": [
    "#q5-2\n",
    "print(5,\"= 10 - 5\")"
   ]
  },
  {
   "cell_type": "markdown",
   "id": "5b5c419d",
   "metadata": {},
   "source": [
    "# 형성평가 1"
   ]
  },
  {
   "cell_type": "code",
   "execution_count": 70,
   "id": "464fc130",
   "metadata": {},
   "outputs": [
    {
     "name": "stdout",
     "output_type": "stream",
     "text": [
      "Solved at jungol\n"
     ]
    }
   ],
   "source": [
    "#1\n",
    "print(\"Solved at jungol\")"
   ]
  },
  {
   "cell_type": "code",
   "execution_count": 71,
   "id": "dbbea6e6",
   "metadata": {},
   "outputs": [
    {
     "name": "stdout",
     "output_type": "stream",
     "text": [
      "Do you know Python?\n",
      "Yes I do!\n"
     ]
    }
   ],
   "source": [
    "#2\n",
    "print(\"Do you know Python?\\nYes I do!\")"
   ]
  },
  {
   "cell_type": "code",
   "execution_count": 72,
   "id": "041d5e67",
   "metadata": {},
   "outputs": [
    {
     "name": "stdout",
     "output_type": "stream",
     "text": [
      "Animal: Panda\n"
     ]
    }
   ],
   "source": [
    "#3\n",
    "print(\"Animal:\",\"Panda\")"
   ]
  },
  {
   "cell_type": "code",
   "execution_count": 73,
   "id": "abe83fc0",
   "metadata": {},
   "outputs": [
    {
     "name": "stdout",
     "output_type": "stream",
     "text": [
      "  *\n",
      " * *\n",
      "*****\n"
     ]
    }
   ],
   "source": [
    "#4\n",
    "print(\"  *\")\n",
    "print(\" * *\")\n",
    "print(\"*****\")"
   ]
  },
  {
   "cell_type": "code",
   "execution_count": 74,
   "id": "08d300b7",
   "metadata": {},
   "outputs": [
    {
     "name": "stdout",
     "output_type": "stream",
     "text": [
      "5 + 6 = 11\n",
      "10 - 3 = 7\n"
     ]
    }
   ],
   "source": [
    "#5\n",
    "print(\"5 + 6 =\",11)\n",
    "print(\"10 - 3 =\",7)"
   ]
  },
  {
   "cell_type": "code",
   "execution_count": 75,
   "id": "fca1e907",
   "metadata": {},
   "outputs": [
    {
     "name": "stdout",
     "output_type": "stream",
     "text": [
      "kor 90\n",
      "mat 80\n",
      "eng 100\n",
      "hap 270\n"
     ]
    }
   ],
   "source": [
    "#6\n",
    "a=90\n",
    "b=80\n",
    "c=100\n",
    "hap=a+b+c\n",
    "print(\"kor\",a)\n",
    "print(\"mat\",b)\n",
    "print(\"eng\",c)\n",
    "print(\"hap\",hap)"
   ]
  },
  {
   "cell_type": "markdown",
   "id": "537336fc",
   "metadata": {},
   "source": [
    "# 2.변수와 입력"
   ]
  },
  {
   "cell_type": "code",
   "execution_count": 38,
   "id": "e50d2d52",
   "metadata": {},
   "outputs": [
    {
     "name": "stdout",
     "output_type": "stream",
     "text": [
      "-50\n"
     ]
    }
   ],
   "source": [
    "#q1-1\n",
    "a=-50\n",
    "print(a)"
   ]
  },
  {
   "cell_type": "code",
   "execution_count": 39,
   "id": "c675a4b0",
   "metadata": {},
   "outputs": [
    {
     "name": "stdout",
     "output_type": "stream",
     "text": [
      "7 3\n"
     ]
    }
   ],
   "source": [
    "#q1-2\n",
    "a=7\n",
    "b=3\n",
    "print(a,b)"
   ]
  },
  {
   "cell_type": "code",
   "execution_count": 40,
   "id": "e7fb0276",
   "metadata": {},
   "outputs": [
    {
     "name": "stdout",
     "output_type": "stream",
     "text": [
      "pi = 3.14\n"
     ]
    }
   ],
   "source": [
    "#q1-3\n",
    "a=3.14\n",
    "b=\"pi\"\n",
    "print(b,\"=\",a)"
   ]
  },
  {
   "cell_type": "code",
   "execution_count": 41,
   "id": "9354d20f",
   "metadata": {},
   "outputs": [
    {
     "name": "stdout",
     "output_type": "stream",
     "text": [
      "10 + 20 = 30\n",
      "10 - 20 = -10\n"
     ]
    }
   ],
   "source": [
    "#q1-4\n",
    "a=10\n",
    "b=20\n",
    "print(a,\"+\",b,\"=\",a+b)\n",
    "print(a,\"-\",b,\"=\",a-b)"
   ]
  },
  {
   "cell_type": "code",
   "execution_count": 42,
   "id": "94884814",
   "metadata": {},
   "outputs": [
    {
     "name": "stdout",
     "output_type": "stream",
     "text": [
      "Capital of Korea is Seoul\n"
     ]
    }
   ],
   "source": [
    "#q2-1\n",
    "ctr=input().strip()\n",
    "cap=input().strip()\n",
    "print(\"Capital of\",ctr,\"is\",cap)"
   ]
  },
  {
   "cell_type": "code",
   "execution_count": 43,
   "id": "7f281d1d",
   "metadata": {},
   "outputs": [
    {
     "name": "stdout",
     "output_type": "stream",
     "text": [
      "Apple and Apple\n",
      "Banana or Orange\n"
     ]
    }
   ],
   "source": [
    "#q2-2\n",
    "f1=input().strip()\n",
    "f2=input().strip()\n",
    "f3=input().strip()\n",
    "print(f1,\"and\",f1)\n",
    "print(f2,\"or\",f3)"
   ]
  },
  {
   "cell_type": "code",
   "execution_count": 44,
   "id": "39e6b125",
   "metadata": {},
   "outputs": [
    {
     "name": "stdout",
     "output_type": "stream",
     "text": [
      "Park vs Choi\n",
      "kim vs Lee\n"
     ]
    }
   ],
   "source": [
    "#q2-3\n",
    "f1=input().strip()\n",
    "f2=input().strip()\n",
    "f3=input().strip()\n",
    "f4=input().strip()\n",
    "print(f3,\"vs\",f4)\n",
    "print(f1,\"vs\",f2)"
   ]
  },
  {
   "cell_type": "code",
   "execution_count": 45,
   "id": "04fc2ee3",
   "metadata": {},
   "outputs": [
    {
     "name": "stdout",
     "output_type": "stream",
     "text": [
      "I am 18 years old\n"
     ]
    }
   ],
   "source": [
    "#q3-1\n",
    "age=int(input())\n",
    "print(\"I am\",age,\"years old\")"
   ]
  },
  {
   "cell_type": "code",
   "execution_count": 46,
   "id": "04392f7a",
   "metadata": {},
   "outputs": [
    {
     "name": "stdout",
     "output_type": "stream",
     "text": [
      "4\n"
     ]
    }
   ],
   "source": [
    "#3-2\n",
    "age1=int(input())\n",
    "age2=int(input())\n",
    "print(age1-age2)"
   ]
  },
  {
   "cell_type": "code",
   "execution_count": 47,
   "id": "34b513e8",
   "metadata": {},
   "outputs": [
    {
     "name": "stdout",
     "output_type": "stream",
     "text": [
      "6\n"
     ]
    }
   ],
   "source": [
    "#3-3\n",
    "a=int(input())\n",
    "b=int(input())\n",
    "c=int(input())\n",
    "print(a+b+c)"
   ]
  },
  {
   "cell_type": "code",
   "execution_count": 49,
   "id": "d493056d",
   "metadata": {},
   "outputs": [
    {
     "name": "stdout",
     "output_type": "stream",
     "text": [
      "좌표 =( 1.2 , 3.4 )\n"
     ]
    }
   ],
   "source": [
    "#4-1\n",
    "a=float(input())\n",
    "b=float(input())\n",
    "print(\"좌표 =(\",a,\",\",b,\")\")"
   ]
  },
  {
   "cell_type": "code",
   "execution_count": 50,
   "id": "9dd44dbd",
   "metadata": {},
   "outputs": [
    {
     "name": "stdout",
     "output_type": "stream",
     "text": [
      "5 + 2.25 = 7.25\n"
     ]
    }
   ],
   "source": [
    "#4-2\n",
    "a=int(input())\n",
    "b=float(input())\n",
    "print(a,\"+\",b,\"=\",a+b)"
   ]
  },
  {
   "cell_type": "code",
   "execution_count": 51,
   "id": "924c2a70",
   "metadata": {},
   "outputs": [
    {
     "name": "stdout",
     "output_type": "stream",
     "text": [
      "15.3\n",
      "5.5\n"
     ]
    }
   ],
   "source": [
    "#4-3\n",
    "a=float(input())\n",
    "b=float(input())\n",
    "print(a+5)\n",
    "print(b-5)"
   ]
  },
  {
   "cell_type": "code",
   "execution_count": null,
   "id": "4dc229f1",
   "metadata": {},
   "outputs": [
    {
     "name": "stdout",
     "output_type": "stream",
     "text": [
      "3\n",
      "2\n"
     ]
    }
   ],
   "source": [
    "#5-1\n",
    "x,y=input().split()\n",
    "x=int(x)\n",
    "y=int(y)\n",
    "print(y)\n",
    "print(x)"
   ]
  },
  {
   "cell_type": "code",
   "execution_count": 57,
   "id": "1aebcb9c",
   "metadata": {},
   "outputs": [
    {
     "name": "stdout",
     "output_type": "stream",
     "text": [
      "total sum = 10\n"
     ]
    }
   ],
   "source": [
    "#5-2\n",
    "a,b,c,d=input().split()\n",
    "a=int(a)\n",
    "b=int(b)\n",
    "c=int(c)\n",
    "d=int(d)\n",
    "print(\"total sum =\",a+b+c+d)"
   ]
  },
  {
   "cell_type": "code",
   "execution_count": 59,
   "id": "fad6e2ad",
   "metadata": {},
   "outputs": [
    {
     "name": "stdout",
     "output_type": "stream",
     "text": [
      "2 ** 4 16\n"
     ]
    }
   ],
   "source": [
    "#5-3\n",
    "a,b=input().split()\n",
    "a=int(a)\n",
    "b=int(b)\n",
    "print(a,\"**\",b,a**b)"
   ]
  },
  {
   "cell_type": "code",
   "execution_count": 66,
   "id": "1e7b4e8e",
   "metadata": {},
   "outputs": [
    {
     "name": "stdout",
     "output_type": "stream",
     "text": [
      "11\n"
     ]
    }
   ],
   "source": [
    "#5-4\n",
    "a,c=input().split()\n",
    "b,d=input().split()\n",
    "a=int(a)\n",
    "b=int(b)\n",
    "c=int(c)\n",
    "d=int(d)\n",
    "print(a*b+c*d)"
   ]
  },
  {
   "cell_type": "code",
   "execution_count": 67,
   "id": "6fab7ab2",
   "metadata": {},
   "outputs": [
    {
     "name": "stdout",
     "output_type": "stream",
     "text": [
      "Jung was born in 2008\n",
      "Kang was born in 2013\n",
      "Jung is 5 years older than Kang\n"
     ]
    }
   ],
   "source": [
    "#6-1\n",
    "f1,y1=input().split()\n",
    "f2,y2=input().split()\n",
    "y1=int(y1)\n",
    "y2=int(y2)\n",
    "print(f1,\"was born in\",y1)\n",
    "print(f2,\"was born in\",y2)\n",
    "print(f1,\"is\",y2-y1,\"years older than\",f2)"
   ]
  },
  {
   "cell_type": "code",
   "execution_count": 69,
   "id": "af69f512",
   "metadata": {},
   "outputs": [
    {
     "name": "stdout",
     "output_type": "stream",
     "text": [
      "location: seoul \n",
      "time: 3 hours \n",
      "distance: 10.5 km\n"
     ]
    }
   ],
   "source": [
    "#6-2\n",
    "loc=input()\n",
    "t,dis=input().split()\n",
    "t=int(t)\n",
    "dis=float(dis)\n",
    "print(\"location:\",loc,\"\\ntime:\",t,\"hours\",\"\\ndistance:\",dis,\"km\")"
   ]
  },
  {
   "cell_type": "markdown",
   "id": "91eb5d59",
   "metadata": {},
   "source": [
    "# 형성평가 2"
   ]
  },
  {
   "cell_type": "code",
   "execution_count": 77,
   "id": "a639c94e",
   "metadata": {},
   "outputs": [
    {
     "name": "stdout",
     "output_type": "stream",
     "text": [
      "my name is chulsoo\n",
      "my score is 100\n"
     ]
    }
   ],
   "source": [
    "#1\n",
    "name=\"chulsoo\"\n",
    "score=100\n",
    "print(\"my name is\",name)\n",
    "print(\"my score is\",score)"
   ]
  },
  {
   "cell_type": "code",
   "execution_count": null,
   "id": "60c29336",
   "metadata": {},
   "outputs": [
    {
     "name": "stdout",
     "output_type": "stream",
     "text": [
      "Minsoo graduated beomgye Middle school\n"
     ]
    }
   ],
   "source": [
    "#2\n",
    "str1=input().strip()\n",
    "str2=input().strip()\n",
    "str3=input().strip()\n",
    "print(str3,\"graduated\",str1,str2,\"school\")"
   ]
  },
  {
   "cell_type": "code",
   "execution_count": null,
   "id": "d1675f6e",
   "metadata": {},
   "outputs": [
    {
     "name": "stdout",
     "output_type": "stream",
     "text": [
      "5 + 7 - 9 = 3\n"
     ]
    }
   ],
   "source": [
    "#3\n",
    "a,b,c=input().split()\n",
    "a=int(a)\n",
    "b=int(b)\n",
    "c=int(c)\n",
    "print(a,\"+\",b,\"-\",c,\"=\",a+b-c)"
   ]
  },
  {
   "cell_type": "code",
   "execution_count": 82,
   "id": "ccd04864",
   "metadata": {},
   "outputs": [
    {
     "name": "stdout",
     "output_type": "stream",
     "text": [
      "total = 15.8\n"
     ]
    }
   ],
   "source": [
    "#4\n",
    "a=float(input())\n",
    "b=float(input())\n",
    "print(\"total =\",a+b)"
   ]
  },
  {
   "cell_type": "code",
   "execution_count": 83,
   "id": "69e1772b",
   "metadata": {},
   "outputs": [
    {
     "name": "stdout",
     "output_type": "stream",
     "text": [
      "5 + 7.3 = 12.3\n"
     ]
    }
   ],
   "source": [
    "#5\n",
    "a,b=input().split()\n",
    "a=int(a)\n",
    "b=float(b)\n",
    "print(a,\"+\",b,\"=\",a+b)"
   ]
  },
  {
   "cell_type": "code",
   "execution_count": 84,
   "id": "8461037e",
   "metadata": {},
   "outputs": [
    {
     "name": "stdout",
     "output_type": "stream",
     "text": [
      "10.1 yarf = 923.544\n"
     ]
    }
   ],
   "source": [
    "#6\n",
    "yard=float(input())\n",
    "cm=yard*91.44\n",
    "print(yard,\"yarf =\",cm)"
   ]
  },
  {
   "cell_type": "markdown",
   "id": "f6c0e46d",
   "metadata": {},
   "source": [
    "# 3.연산자"
   ]
  },
  {
   "cell_type": "code",
   "execution_count": 86,
   "id": "1fc72d07",
   "metadata": {},
   "outputs": [
    {
     "name": "stdout",
     "output_type": "stream",
     "text": [
      "5 / 3 = 1 ... 2\n"
     ]
    }
   ],
   "source": [
    "#1-1\n",
    "a,b=input().split()\n",
    "a=int(a)\n",
    "b=int(b)\n",
    "print(a,\"/\",b,\"=\",a//b,'...',a%b)"
   ]
  },
  {
   "cell_type": "code",
   "execution_count": 89,
   "id": "194f42be",
   "metadata": {},
   "outputs": [
    {
     "name": "stdout",
     "output_type": "stream",
     "text": [
      "sum = 160\n",
      "avg = 53\n"
     ]
    }
   ],
   "source": [
    "#1-2\n",
    "a,b,c=input().split()\n",
    "a=int(a)\n",
    "b=int(b)\n",
    "c=int(c)\n",
    "print(\"sum =\",a+b+c,)\n",
    "print(\"avg =\",(a+b+c)//3)"
   ]
  },
  {
   "cell_type": "code",
   "execution_count": null,
   "id": "ef522835",
   "metadata": {},
   "outputs": [
    {
     "name": "stdout",
     "output_type": "stream",
     "text": [
      "15\n",
      "25\n"
     ]
    }
   ],
   "source": [
    "#2-1\n",
    "a=int(input())\n",
    "print(a)\n",
    "a+=10\n",
    "print(a)"
   ]
  },
  {
   "cell_type": "code",
   "execution_count": null,
   "id": "5436e99c",
   "metadata": {},
   "outputs": [
    {
     "name": "stdout",
     "output_type": "stream",
     "text": [
      "20 + 40 = 60\n"
     ]
    }
   ],
   "source": [
    "#2-2\n",
    "a=int(input())\n",
    "b=int(input())\n",
    "a-=10\n",
    "b*=2\n",
    "print(a,'+',b,'=',a+b)"
   ]
  },
  {
   "cell_type": "code",
   "execution_count": 94,
   "id": "afdba119",
   "metadata": {},
   "outputs": [
    {
     "name": "stdout",
     "output_type": "stream",
     "text": [
      "1 15 16\n"
     ]
    }
   ],
   "source": [
    "#2-3\n",
    "a,b=input().split()\n",
    "a=int(a)\n",
    "b=int(b)\n",
    "a%=2\n",
    "b+=10\n",
    "print(a,b,a+b)"
   ]
  },
  {
   "cell_type": "code",
   "execution_count": 95,
   "id": "9a0d2204",
   "metadata": {},
   "outputs": [
    {
     "name": "stdout",
     "output_type": "stream",
     "text": [
      "False\n",
      "True\n"
     ]
    }
   ],
   "source": [
    "#3\n",
    "a,b=input().split()\n",
    "a=int(a)\n",
    "b=int(b)\n",
    "rst1=(a==b)\n",
    "rst2=(a!=b)\n",
    "print(rst1)\n",
    "print(rst2)"
   ]
  },
  {
   "cell_type": "code",
   "execution_count": 96,
   "id": "546bbf7d",
   "metadata": {},
   "outputs": [
    {
     "name": "stdout",
     "output_type": "stream",
     "text": [
      "10 > 20 == False\n",
      "10 >= 20 == False\n",
      "10 < 20 == True\n",
      "10 <= 20 == True\n"
     ]
    }
   ],
   "source": [
    "#4\n",
    "a,b=input().split()\n",
    "a=int(a)\n",
    "b=int(b)\n",
    "print(a,'>',b,'==',a>b)\n",
    "print(a,'>=',b,'==',a>=b)\n",
    "print(a,'<',b,'==',a<b)\n",
    "print(a,'<=',b,'==',a<=b)"
   ]
  },
  {
   "cell_type": "code",
   "execution_count": 99,
   "id": "dee44ff7",
   "metadata": {},
   "outputs": [
    {
     "name": "stdout",
     "output_type": "stream",
     "text": [
      "False\n",
      "False\n",
      "True\n",
      "True\n",
      "True\n",
      "True\n"
     ]
    }
   ],
   "source": [
    "#5\n",
    "a=True\n",
    "b=False\n",
    "c=False\n",
    "print(not a)\n",
    "print(a and b)\n",
    "print(a or b)\n",
    "print(a and (a or c))\n",
    "print(a or (a and c))\n",
    "print(not b or (a and not c))"
   ]
  },
  {
   "cell_type": "code",
   "execution_count": 102,
   "id": "2ea3438b",
   "metadata": {},
   "outputs": [
    {
     "name": "stdout",
     "output_type": "stream",
     "text": [
      "True\n",
      "False\n"
     ]
    }
   ],
   "source": [
    "#6\n",
    "a,b,c=input().split()\n",
    "a=int(a)\n",
    "b=int(b)\n",
    "c=int(c)\n",
    "print((a>b) and (a>c))\n",
    "print(a==b==c)\n"
   ]
  },
  {
   "cell_type": "markdown",
   "id": "1590854c",
   "metadata": {},
   "source": [
    "# 형성평가 3"
   ]
  },
  {
   "cell_type": "code",
   "execution_count": null,
   "id": "f951cde5",
   "metadata": {},
   "outputs": [
    {
     "name": "stdout",
     "output_type": "stream",
     "text": [
      "tot: 353\n",
      "avg: 88\n"
     ]
    }
   ],
   "source": [
    "#1\n",
    "a=int(input())\n",
    "b=int(input())\n",
    "c=int(input())\n",
    "d=int(input())\n",
    "print('tot:',a+b+c+d)\n",
    "print('avg:',(a+b+c+d)//4)"
   ]
  },
  {
   "cell_type": "code",
   "execution_count": 104,
   "id": "3b6d36f2",
   "metadata": {},
   "outputs": [
    {
     "name": "stdout",
     "output_type": "stream",
     "text": [
      "6 ... 2\n"
     ]
    }
   ],
   "source": [
    "#2\n",
    "N,M=input().split()\n",
    "N=int(N)\n",
    "M=int(M)\n",
    "print(N//M,'...',N%M)\n"
   ]
  },
  {
   "cell_type": "code",
   "execution_count": 105,
   "id": "4fec422c",
   "metadata": {},
   "outputs": [
    {
     "name": "stdout",
     "output_type": "stream",
     "text": [
      "width = 30\n",
      "length = 22\n",
      "area = 660\n"
     ]
    }
   ],
   "source": [
    "#3\n",
    "a=int(input())\n",
    "b=int(input())\n",
    "a*=2\n",
    "b-=3\n",
    "print(\"width =\",a)\n",
    "print(\"length =\",b)\n",
    "print(\"area =\",a*b)"
   ]
  },
  {
   "cell_type": "code",
   "execution_count": 108,
   "id": "9c62d260",
   "metadata": {},
   "outputs": [
    {
     "name": "stdout",
     "output_type": "stream",
     "text": [
      "50\n"
     ]
    }
   ],
   "source": [
    "#4\n",
    "a,b,c=input().split()\n",
    "a=int(a)\n",
    "b=int(b)\n",
    "c=int(c)\n",
    "print((a*b*c)-(a+b+c))"
   ]
  },
  {
   "cell_type": "code",
   "execution_count": 111,
   "id": "45cd0237",
   "metadata": {},
   "outputs": [
    {
     "name": "stdout",
     "output_type": "stream",
     "text": [
      "False\n"
     ]
    }
   ],
   "source": [
    "#5\n",
    "a1,t1=input().split()\n",
    "a2,t2=input().split()\n",
    "a1=int(a1)\n",
    "a2=int(a2)\n",
    "t1=int(t2)\n",
    "t2=int(t2)\n",
    "print((a1<a2)and(t1<t2))"
   ]
  },
  {
   "cell_type": "code",
   "execution_count": 112,
   "id": "2316cf82",
   "metadata": {},
   "outputs": [
    {
     "name": "stdout",
     "output_type": "stream",
     "text": [
      "x and y -> False\n",
      "x or y -> True\n",
      "not x -> False\n",
      "not y -> True\n"
     ]
    }
   ],
   "source": [
    "#6\n",
    "x=True\n",
    "y=False\n",
    "print('x and y ->',x and y)\n",
    "print('x or y ->',x or y)\n",
    "print('not x ->',not x)\n",
    "print('not y ->',not y)\n"
   ]
  }
 ],
 "metadata": {
  "kernelspec": {
   "display_name": "Python 3",
   "language": "python",
   "name": "python3"
  },
  "language_info": {
   "codemirror_mode": {
    "name": "ipython",
    "version": 3
   },
   "file_extension": ".py",
   "mimetype": "text/x-python",
   "name": "python",
   "nbconvert_exporter": "python",
   "pygments_lexer": "ipython3",
   "version": "3.13.7"
  }
 },
 "nbformat": 4,
 "nbformat_minor": 5
}
